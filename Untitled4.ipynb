{
  "nbformat": 4,
  "nbformat_minor": 0,
  "metadata": {
    "colab": {
      "provenance": []
    },
    "kernelspec": {
      "name": "python3",
      "display_name": "Python 3"
    },
    "language_info": {
      "name": "python"
    }
  },
  "cells": [
    {
      "cell_type": "code",
      "execution_count": null,
      "metadata": {
        "id": "z_7wmRZprNo9"
      },
      "outputs": [],
      "source": []
    },
    {
      "cell_type": "markdown",
      "source": [
        "1. What is Python, and why is it popular?\n",
        "     \n",
        "     - Python is object oriented programming language.Now a days python is becoming popular because of its simplicity and versatility."
      ],
      "metadata": {
        "id": "1giGb262rkox"
      }
    },
    {
      "cell_type": "markdown",
      "source": [
        "2.What is an interpreter in Python?\n",
        "\n",
        "   - It is a programme in python which exeutes programme line by line so it can become understandable by machine."
      ],
      "metadata": {
        "id": "AOoedFQDr8_J"
      }
    },
    {
      "cell_type": "markdown",
      "source": [
        "3. What are pre-defined keywords in Python\n",
        "\n",
        "   - These are words which are already exist in python so these words can not be defined as identifiers.  "
      ],
      "metadata": {
        "id": "674C0QUeszB2"
      }
    },
    {
      "cell_type": "markdown",
      "source": [
        "4.Can keywords be used as variable names?\n",
        "\n",
        "   - No,these are reserved words."
      ],
      "metadata": {
        "id": "zhWoM4fYtgp-"
      }
    },
    {
      "cell_type": "markdown",
      "source": [
        "5.What is mutability in Python?\n",
        "\n",
        "   - Mutable objects are those whose state or value can be changed after they are created."
      ],
      "metadata": {
        "id": "U9uDNctTtzoY"
      }
    },
    {
      "cell_type": "markdown",
      "source": [
        "6.Why are lists mutable, but tuples are immutable?\n",
        "\n",
        "   - Tuples are immutable because these can not be changed after created while list can be changed after creating."
      ],
      "metadata": {
        "id": "c2RNQoTguN1R"
      }
    },
    {
      "cell_type": "markdown",
      "source": [
        "7. What is the difference between “==” and “is” operators in Python?\n",
        "\n",
        "   - The is operator in Python is used to test if two variables refer to the same object in memory while == is used to check the equality of two object."
      ],
      "metadata": {
        "id": "AQI7uyW_uojG"
      }
    },
    {
      "cell_type": "markdown",
      "source": [
        "8. What are logical operators in Python?\n",
        "\n",
        "   - These are used to check the condition in a programme."
      ],
      "metadata": {
        "id": "NhD5npuru-_d"
      }
    },
    {
      "cell_type": "markdown",
      "source": [
        "9.What is type casting in Python?\n",
        "\n",
        "   - It is used to check the type of object whether it is string,integer,float,dict."
      ],
      "metadata": {
        "id": "r9CWhmelvcTj"
      }
    },
    {
      "cell_type": "markdown",
      "source": [
        "10.What is the difference between implicit and explicit type casting?\n",
        "\n",
        "   - Implicit:- It is used to change the type inside data created.\n",
        "   Explicit:- It is used to change the type of outside data.\n",
        "\n",
        "   ex:- string to int"
      ],
      "metadata": {
        "id": "gysOFkXmvujW"
      }
    },
    {
      "cell_type": "markdown",
      "source": [
        "11.What is the purpose of conditional statements in Python?\n",
        "\n",
        "   - Conditional statement is used to check the programme whether statistics calculation is true or false."
      ],
      "metadata": {
        "id": "GL3uaf_YwVIi"
      }
    },
    {
      "cell_type": "markdown",
      "source": [
        "12. How does the elif statement work?\n",
        "\n",
        "   - When programme has more than 1 condition then we use it."
      ],
      "metadata": {
        "id": "TMMV9ZK6wl2Q"
      }
    },
    {
      "cell_type": "markdown",
      "source": [
        "13. What is the difference between for and while loops?\n",
        "\n",
        "   - For loop we use when we know the how many times we need data from any list or range but while loop we use when we do not know how many times we need the item because while loop create data infinity times."
      ],
      "metadata": {
        "id": "P52MmAjPwwWe"
      }
    },
    {
      "cell_type": "markdown",
      "source": [
        "14. Describe a scenario where a while loop is more suitable than a for loop.\n",
        "\n",
        "   - Consider a situation where you are reading a file line by line, and you do not know in advance how many lines the file contains. A while loop is more suitable here because it continues to execute as long as there is data to read."
      ],
      "metadata": {
        "id": "Uiax6AA9xRcw"
      }
    },
    {
      "cell_type": "code",
      "source": [
        "#Write a Python program to print \"Hello World\".\n",
        "print(\"Hello World\")"
      ],
      "metadata": {
        "colab": {
          "base_uri": "https://localhost:8080/"
        },
        "id": "RkFeCYTUxq2D",
        "outputId": "506d7946-1bb5-40dc-ddee-0dcf2f7f7d24"
      },
      "execution_count": null,
      "outputs": [
        {
          "output_type": "stream",
          "name": "stdout",
          "text": [
            "Hello World\n"
          ]
        }
      ]
    },
    {
      "cell_type": "code",
      "source": [
        "#Write a Python program that displays your name and age.\n",
        "print(f\"Name: Ashish singhal\")\n",
        "print(f\"Age: 25\")"
      ],
      "metadata": {
        "colab": {
          "base_uri": "https://localhost:8080/"
        },
        "id": "TAO5l-HMx2yH",
        "outputId": "1e10afb7-a893-4fe1-fe6b-3db89e1034b9"
      },
      "execution_count": null,
      "outputs": [
        {
          "output_type": "stream",
          "name": "stdout",
          "text": [
            "Name: Ashish singhal\n",
            "Age: 25\n"
          ]
        }
      ]
    },
    {
      "cell_type": "code",
      "source": [
        "#Write code to print all the pre-defined keywords in Python using the keyword library.\n",
        "import keyword\n",
        "print(\"All keywords\")\n",
        "for a in keyword.kwlist:\n",
        "  print(a)"
      ],
      "metadata": {
        "colab": {
          "base_uri": "https://localhost:8080/"
        },
        "id": "6bE5Mb2210yf",
        "outputId": "ce3dbad1-b309-4556-d8f0-4fb74af9c5db"
      },
      "execution_count": null,
      "outputs": [
        {
          "output_type": "stream",
          "name": "stdout",
          "text": [
            "All keywords\n",
            "False\n",
            "None\n",
            "True\n",
            "and\n",
            "as\n",
            "assert\n",
            "async\n",
            "await\n",
            "break\n",
            "class\n",
            "continue\n",
            "def\n",
            "del\n",
            "elif\n",
            "else\n",
            "except\n",
            "finally\n",
            "for\n",
            "from\n",
            "global\n",
            "if\n",
            "import\n",
            "in\n",
            "is\n",
            "lambda\n",
            "nonlocal\n",
            "not\n",
            "or\n",
            "pass\n",
            "raise\n",
            "return\n",
            "try\n",
            "while\n",
            "with\n",
            "yield\n"
          ]
        }
      ]
    },
    {
      "cell_type": "code",
      "source": [
        "# Write a program that checks if a given word is a Python keyword.\n",
        "import keyword\n",
        "\n",
        "def is_python_keyword(word):\n",
        "    if keyword.iskeyword(word):\n",
        "        print(\"is a Python keyword.\")\n",
        "    else:\n",
        "       print(\"is NOT a Python keyword.\")\n",
        "word_to_check = input(\"Enter a word to check: \")\n",
        "print(is_python_keyword(word_to_check))\n"
      ],
      "metadata": {
        "colab": {
          "base_uri": "https://localhost:8080/"
        },
        "id": "jjD-tn_O2UhS",
        "outputId": "7e8dcae0-7b06-4bec-ce4a-05eef4e5abf4"
      },
      "execution_count": null,
      "outputs": [
        {
          "output_type": "stream",
          "name": "stdout",
          "text": [
            "Enter a word to check: sc\n",
            "is NOT a Python keyword.\n",
            "None\n"
          ]
        }
      ]
    },
    {
      "cell_type": "code",
      "source": [
        "#Create a list and tuple in Python, and demonstrate how attempting to change an element works differently .\n",
        "\n",
        "my_list = [1, 2, 3]\n",
        "my_tuple = (1, 2, 3)\n",
        "my_list[1] = 42\n",
        "print(\"Modified list:\", my_list)\n",
        "try:\n",
        "    my_tuple[1] = 42\n",
        "except TypeError as a:\n",
        "    print(\"Error when modifying tuple:\", a)\n"
      ],
      "metadata": {
        "id": "OUD5V_cU3mIU",
        "colab": {
          "base_uri": "https://localhost:8080/"
        },
        "outputId": "72bdac67-3014-44fe-e169-0d4db2d6d210"
      },
      "execution_count": null,
      "outputs": [
        {
          "output_type": "stream",
          "name": "stdout",
          "text": [
            "Modified list: [1, 42, 3]\n",
            "Error when modifying tuple: 'tuple' object does not support item assignment\n"
          ]
        }
      ]
    },
    {
      "cell_type": "code",
      "source": [
        "#. Write a function to demonstrate the behavior of mutable and immutable arguments.\n",
        "\n",
        "# Function to demonstrate mutable and immutable arguments\n",
        "def demonstrate_mutable_immutable():\n",
        "    # Immutable argument example\n",
        "    def modify_immutable(arg):\n",
        "        print(f\"Before modification (immutable): {arg}\")\n",
        "        arg += 10  # This creates a new object since integers are immutable\n",
        "        print(f\"After modification (immutable): {arg}\")\n",
        "\n",
        "    # Mutable argument example\n",
        "    def modify_mutable(arg):\n",
        "        print(f\"Before modification (mutable): {arg}\")\n",
        "        arg.append(10)  # This modifies the same object since lists are mutable\n",
        "        print(f\"After modification (mutable): {arg}\")\n",
        "\n",
        "    # Immutable example: Integer\n",
        "    immutable_value = 5\n",
        "    print(\"Immutable Example:\")\n",
        "    modify_immutable(immutable_value)\n",
        "    print(f\"Original value after function call (immutable): {immutable_value}\\n\")\n",
        "\n",
        "    # Mutable example: List\n",
        "    mutable_value = [1, 2, 3]\n",
        "    print(\"Mutable Example:\")\n",
        "    modify_mutable(mutable_value)\n",
        "    print(f\"Original value after function call (mutable): {mutable_value}\")\n",
        "\n",
        "# Call the function to see the behavior\n",
        "demonstrate_mutable_immutable()\n"
      ],
      "metadata": {
        "colab": {
          "base_uri": "https://localhost:8080/"
        },
        "id": "lGKMq7qLbZHd",
        "outputId": "22133cbf-dfe1-4f1a-ee53-52ccd65cc1ee"
      },
      "execution_count": null,
      "outputs": [
        {
          "output_type": "stream",
          "name": "stdout",
          "text": [
            "Immutable Example:\n",
            "Before modification (immutable): 5\n",
            "After modification (immutable): 15\n",
            "Original value after function call (immutable): 5\n",
            "\n",
            "Mutable Example:\n",
            "Before modification (mutable): [1, 2, 3]\n",
            "After modification (mutable): [1, 2, 3, 10]\n",
            "Original value after function call (mutable): [1, 2, 3, 10]\n"
          ]
        }
      ]
    },
    {
      "cell_type": "code",
      "source": [
        "#Write a program that performs basic arithmetic operations on two user-input numbers.\n",
        "\n",
        "num1=int(input(\"Enter first number: \"))\n",
        "num2=int(input(\"Enter second number: \"))\n",
        "print(f\"Addition: {num1+num2}\")\n",
        "print(f\"Subtraction: {num1-num2}\")\n",
        "print(f\"Multiplication: {num1*num2}\")\n",
        "print(f\"Division: {num1/num2}\")"
      ],
      "metadata": {
        "colab": {
          "base_uri": "https://localhost:8080/"
        },
        "id": "-zSg8JfLfHQo",
        "outputId": "71cff36e-4e2e-4a4e-ba18-a3ec11e8756f"
      },
      "execution_count": 1,
      "outputs": [
        {
          "output_type": "stream",
          "name": "stdout",
          "text": [
            "Enter first number: 2\n",
            "Enter second number: 2\n",
            "Addition: 4\n",
            "Subtraction: 0\n",
            "Multiplication: 4\n",
            "Division: 1.0\n"
          ]
        }
      ]
    },
    {
      "cell_type": "code",
      "source": [
        "#write a program to demonstrate the use of logical operators.\n",
        "name=str(input(\"Enter your name: \"))\n",
        "voter_id=int(input(\"Enter your id: \"))\n",
        "age=int(input(\"Enter your age: \"))\n",
        "if age>=18 and voter_id != 0:\n",
        "  print(\"Voting is allowed\")\n",
        "else:\n",
        "  print(\"Voting is not allowed\")"
      ],
      "metadata": {
        "colab": {
          "base_uri": "https://localhost:8080/"
        },
        "id": "kAOZA3dXf8_A",
        "outputId": "c31c37c9-f5c2-4879-befd-80ba7421b7e2"
      },
      "execution_count": 5,
      "outputs": [
        {
          "output_type": "stream",
          "name": "stdout",
          "text": [
            "Enter your name: AS\n",
            "Enter your id: 2345\n",
            "Enter your age: 25\n",
            "Voting is allowed\n"
          ]
        }
      ]
    },
    {
      "cell_type": "code",
      "source": [
        "#. Write a Python program to convert user input from string to integer, float, and boolean types.\n",
        "\n",
        "user_input = input(\"Enter a value: \")\n",
        "try:\n",
        "    int_value = int(user_input)\n",
        "    print(f\"Integer value: {int_value}\")\n",
        "except ValueError:\n",
        "    print(\"Cannot convert to integer.\")\n",
        "try:\n",
        "    float_value = float(user_input)\n",
        "    print(f\"Float value: {float_value}\")\n",
        "except ValueError:\n",
        "    print(\"Cannot convert to float.\")\n",
        "bool_value = user_input.strip().lower() not in [\"\", \"0\", \"false\"]\n",
        "print(f\"Boolean value: {bool_value}\")\n"
      ],
      "metadata": {
        "colab": {
          "base_uri": "https://localhost:8080/"
        },
        "id": "_X9bZ_m-hez8",
        "outputId": "d1e23cb6-b741-4d18-b019-8a7cc6900b3d"
      },
      "execution_count": 7,
      "outputs": [
        {
          "output_type": "stream",
          "name": "stdout",
          "text": [
            "Enter a value: 23\n",
            "Integer value: 23\n",
            "Float value: 23.0\n",
            "Boolean value: True\n"
          ]
        }
      ]
    },
    {
      "cell_type": "code",
      "source": [
        "#10. Write code to demonstrate type casting with list elements.\n",
        "\n",
        "X=[1,2,3,45,5]"
      ],
      "metadata": {
        "id": "JlTti1Jih_p-"
      },
      "execution_count": 13,
      "outputs": []
    },
    {
      "cell_type": "code",
      "source": [
        "type(X)"
      ],
      "metadata": {
        "colab": {
          "base_uri": "https://localhost:8080/"
        },
        "id": "EeMGejHgickF",
        "outputId": "c3f628a1-c6e2-46ae-f2cf-cbe5fa59ec6d"
      },
      "execution_count": 15,
      "outputs": [
        {
          "output_type": "execute_result",
          "data": {
            "text/plain": [
              "list"
            ]
          },
          "metadata": {},
          "execution_count": 15
        }
      ]
    },
    {
      "cell_type": "code",
      "source": [
        "#Write a program that checks if a number is positive, negative, or zero.\n",
        "\n",
        "num=(int(input(\"Enter a number: \")))\n",
        "if num>0:\n",
        "  print(\"Number is positive\")\n",
        "elif num<0:\n",
        "  print(\"Number is negative\")\n",
        "else:\n",
        "  print(\"Number is zero\")"
      ],
      "metadata": {
        "colab": {
          "base_uri": "https://localhost:8080/"
        },
        "id": "odIdXvMEid3g",
        "outputId": "fc82622b-a895-48d4-a2f9-5a168d3ff8b5"
      },
      "execution_count": 16,
      "outputs": [
        {
          "output_type": "stream",
          "name": "stdout",
          "text": [
            "Enter a number: 2\n",
            "Number is positive\n"
          ]
        }
      ]
    },
    {
      "cell_type": "code",
      "source": [
        "# Write a for loop to print numbers from 1 to 10.\n",
        "\n",
        "for i in range(1,11):\n",
        "  print(i)"
      ],
      "metadata": {
        "colab": {
          "base_uri": "https://localhost:8080/"
        },
        "id": "TRmo4E5bjDm5",
        "outputId": "a25f1000-09e8-4eb5-b295-f23ea24912f4"
      },
      "execution_count": 17,
      "outputs": [
        {
          "output_type": "stream",
          "name": "stdout",
          "text": [
            "1\n",
            "2\n",
            "3\n",
            "4\n",
            "5\n",
            "6\n",
            "7\n",
            "8\n",
            "9\n",
            "10\n"
          ]
        }
      ]
    },
    {
      "cell_type": "code",
      "source": [
        "#Write a Python program to find the sum of all even numbers between 1 and 50.\n",
        "\n",
        "sum=0\n",
        "for a in range(1,51):\n",
        "  if a%2==0:\n",
        "    sum+=a\n",
        "print(\"the sum is:\", sum)"
      ],
      "metadata": {
        "colab": {
          "base_uri": "https://localhost:8080/"
        },
        "id": "Cd3DqWyHjSal",
        "outputId": "7a6de3e3-f7a5-47d6-d885-79f05edd9525"
      },
      "execution_count": 20,
      "outputs": [
        {
          "output_type": "stream",
          "name": "stdout",
          "text": [
            "the sum is: 650\n"
          ]
        }
      ]
    },
    {
      "cell_type": "code",
      "source": [
        "#Write a program to reverse a string using a while loop.\n",
        "def reverse_string(input_string):\n",
        "    reversed_string = \"\"\n",
        "    index = len(input_string) - 1\n",
        "\n",
        "    while index >= 0:\n",
        "        reversed_string += input_string[index]\n",
        "        index -= 1\n",
        "\n",
        "    return reversed_string\n",
        "    original_string = \"Hello, World!\"\n",
        "reversed_result = reverse_string(original_string)\n",
        "print(\"Original String:\", original_string)\n",
        "print(\"Reversed String:\", reversed_result)"
      ],
      "metadata": {
        "colab": {
          "base_uri": "https://localhost:8080/"
        },
        "id": "cw_NR6tCkLqB",
        "outputId": "1ed7bbc0-a7ec-4985-c68b-0c89aff5f123"
      },
      "execution_count": 24,
      "outputs": [
        {
          "output_type": "stream",
          "name": "stdout",
          "text": [
            "Original String: Hello, World!\n",
            "Reversed String: !dlroW ,olleH\n"
          ]
        }
      ]
    },
    {
      "cell_type": "code",
      "source": [
        "# Write a Python program to calculate the factorial of a number provided by the user using a while loop.\n",
        "\n",
        "def factorial(n):\n",
        "    result = 2\n",
        "    current_number = 2\n",
        "\n",
        "    while current_number <= n:\n",
        "        result *= current_number\n",
        "        current_number += 2\n",
        "\n",
        "    return result"
      ],
      "metadata": {
        "id": "hE1LEcuhlAb-"
      },
      "execution_count": 27,
      "outputs": []
    }
  ]
}